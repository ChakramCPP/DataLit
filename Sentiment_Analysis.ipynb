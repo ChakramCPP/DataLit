{
  "nbformat": 4,
  "nbformat_minor": 0,
  "metadata": {
    "colab": {
      "name": "Sentiment_Analysis.ipynb",
      "version": "0.3.2",
      "provenance": [],
      "collapsed_sections": [],
      "include_colab_link": true
    },
    "kernelspec": {
      "name": "python3",
      "display_name": "Python 3"
    }
  },
  "cells": [
    {
      "cell_type": "markdown",
      "metadata": {
        "id": "view-in-github",
        "colab_type": "text"
      },
      "source": [
        "<a href=\"https://colab.research.google.com/github/ChakramCPP/DataLit/blob/master/Sentiment_Analysis.ipynb\" target=\"_parent\"><img src=\"https://colab.research.google.com/assets/colab-badge.svg\" alt=\"Open In Colab\"/></a>"
      ]
    },
    {
      "metadata": {
        "id": "RK0ADiT6b2VR",
        "colab_type": "code",
        "colab": {}
      },
      "cell_type": "code",
      "source": [
        "!pip install pandas\n",
        "!pip install tweepy\n",
        "!pip install vaderSentiment"
      ],
      "execution_count": 0,
      "outputs": []
    },
    {
      "metadata": {
        "id": "vWgbaN33b__W",
        "colab_type": "code",
        "colab": {}
      },
      "cell_type": "code",
      "source": [
        "import tweepy\n",
        "import pandas as pd\n",
        "from nltk.sentiment.vader import SentimentIntensityAnalyzer"
      ],
      "execution_count": 0,
      "outputs": []
    },
    {
      "metadata": {
        "id": "2kDWp_hRtHIq",
        "colab_type": "code",
        "colab": {}
      },
      "cell_type": "code",
      "source": [
        ""
      ],
      "execution_count": 0,
      "outputs": []
    },
    {
      "metadata": {
        "id": "WXotUKhucFoc",
        "colab_type": "code",
        "colab": {}
      },
      "cell_type": "code",
      "source": [
        "consumer_key = '",
        "consumer_secret ='",
        "access_token = ''\n",
        "access_token_secret = ''"
      ],
      "execution_count": 0,
      "outputs": []
    },
    {
      "metadata": {
        "id": "cG9oCBvltIV6",
        "colab_type": "code",
        "colab": {}
      },
      "cell_type": "code",
      "source": [
        ""
      ],
      "execution_count": 0,
      "outputs": []
    },
    {
      "metadata": {
        "id": "ik-4ChVacjQ9",
        "colab_type": "code",
        "colab": {}
      },
      "cell_type": "code",
      "source": [
        "auth = tweepy.OAuthHandler(consumer_key, consumer_secret)\n",
        "auth.set_access_token(access_token, access_token_secret)\n",
        "\n",
        "api = tweepy.API(auth,wait_on_rate_limit=True, wait_on_rate_limit_notify=True)\n",
        "\n",
        "tweets = api.search(q='Artificial Intelligence', count=20)"
      ],
      "execution_count": 0,
      "outputs": []
    },
    {
      "metadata": {
        "id": "7p__2Y0NErAg",
        "colab_type": "code",
        "colab": {}
      },
      "cell_type": "code",
      "source": [
        ""
      ],
      "execution_count": 0,
      "outputs": []
    },
    {
      "metadata": {
        "id": "Wp-XCyLptJWK",
        "colab_type": "code",
        "colab": {}
      },
      "cell_type": "code",
      "source": [
        ""
      ],
      "execution_count": 0,
      "outputs": []
    },
    {
      "metadata": {
        "id": "g2KFMGhxgtVs",
        "colab_type": "code",
        "colab": {}
      },
      "cell_type": "code",
      "source": [
        "data = pd.DataFrame(data=[tweet.text for tweet in tweets], columns=['Tweets'])"
      ],
      "execution_count": 0,
      "outputs": []
    },
    {
      "metadata": {
        "id": "gVO2iKv6tKaZ",
        "colab_type": "code",
        "colab": {}
      },
      "cell_type": "code",
      "source": [
        ""
      ],
      "execution_count": 0,
      "outputs": []
    },
    {
      "metadata": {
        "id": "s60k_YQphDrO",
        "colab_type": "code",
        "outputId": "734037e4-f563-4131-c35e-5cc991c71cde",
        "colab": {
          "base_uri": "https://localhost:8080/",
          "height": 34
        }
      },
      "cell_type": "code",
      "source": [
        "print(tweets[0].created_at)"
      ],
      "execution_count": 0,
      "outputs": [
        {
          "output_type": "stream",
          "text": [
            "2019-01-29 16:47:49\n"
          ],
          "name": "stdout"
        }
      ]
    },
    {
      "metadata": {
        "id": "un5jcEQdhSSZ",
        "colab_type": "code",
        "outputId": "ea77e0f5-5a73-4061-839b-b36cffb60163",
        "colab": {
          "base_uri": "https://localhost:8080/",
          "height": 122
        }
      },
      "cell_type": "code",
      "source": [
        "print(data.head(5))"
      ],
      "execution_count": 0,
      "outputs": [
        {
          "output_type": "stream",
          "text": [
            "                                              Tweets\n",
            "0  Advances in artificial intelligence could soon...\n",
            "1  RT @Xbond49: 🤖#ArtificialIntelligence for #inv...\n",
            "2  @anotherhelen @mstem @grok_ @gdb @ilyasut @dem...\n",
            "3  RT @hamdiissawi: Forget about Skynet. An AI to...\n",
            "4  The state of AI in 2019 https://t.co/ZWWAnh5aD...\n"
          ],
          "name": "stdout"
        }
      ]
    },
    {
      "metadata": {
        "id": "bnluFbArhasp",
        "colab_type": "code",
        "outputId": "acfaf4ca-ec50-4280-e120-e4bddb60d27e",
        "colab": {
          "base_uri": "https://localhost:8080/",
          "height": 52
        }
      },
      "cell_type": "code",
      "source": [
        "import nltk\n",
        "nltk.download('vader_lexicon') "
      ],
      "execution_count": 0,
      "outputs": [
        {
          "output_type": "stream",
          "text": [
            "[nltk_data] Downloading package vader_lexicon to /root/nltk_data...\n"
          ],
          "name": "stdout"
        },
        {
          "output_type": "execute_result",
          "data": {
            "text/plain": [
              "True"
            ]
          },
          "metadata": {
            "tags": []
          },
          "execution_count": 35
        }
      ]
    },
    {
      "metadata": {
        "id": "5m9RZY2miC_W",
        "colab_type": "code",
        "colab": {}
      },
      "cell_type": "code",
      "source": [
        "sid = SentimentIntensityAnalyzer()\n",
        "listy = []"
      ],
      "execution_count": 0,
      "outputs": []
    },
    {
      "metadata": {
        "id": "HlXOoNOMtVIH",
        "colab_type": "code",
        "outputId": "caa90260-0b05-480d-87af-ac23816c4311",
        "colab": {
          "base_uri": "https://localhost:8080/",
          "height": 1882
        }
      },
      "cell_type": "code",
      "source": [
        "for index, row in data.iterrows():\n",
        "  ss = sid.polarity_scores(row[\"Tweets\"])\n",
        "  listy.append(ss)\n",
        "  \n",
        "se = pd.Series(listy)\n",
        "data['polarity'] = se.values\n",
        "\n",
        "display(data.head(100))"
      ],
      "execution_count": 0,
      "outputs": [
        {
          "output_type": "display_data",
          "data": {
            "text/html": [
              "<div>\n",
              "<style scoped>\n",
              "    .dataframe tbody tr th:only-of-type {\n",
              "        vertical-align: middle;\n",
              "    }\n",
              "\n",
              "    .dataframe tbody tr th {\n",
              "        vertical-align: top;\n",
              "    }\n",
              "\n",
              "    .dataframe thead th {\n",
              "        text-align: right;\n",
              "    }\n",
              "</style>\n",
              "<table border=\"1\" class=\"dataframe\">\n",
              "  <thead>\n",
              "    <tr style=\"text-align: right;\">\n",
              "      <th></th>\n",
              "      <th>Tweets</th>\n",
              "      <th>polarity</th>\n",
              "    </tr>\n",
              "  </thead>\n",
              "  <tbody>\n",
              "    <tr>\n",
              "      <th>0</th>\n",
              "      <td>RT @verge: Experts recommend the 8 best things...</td>\n",
              "      <td>{'neg': 0.0, 'neu': 0.717, 'pos': 0.283, 'comp...</td>\n",
              "    </tr>\n",
              "    <tr>\n",
              "      <th>1</th>\n",
              "      <td>\"There's More Than #Artificial #Intelligence (...</td>\n",
              "      <td>{'neg': 0.0, 'neu': 1.0, 'pos': 0.0, 'compound...</td>\n",
              "    </tr>\n",
              "    <tr>\n",
              "      <th>2</th>\n",
              "      <td>RT @MakadiaHarsh: Are you using these #trendin...</td>\n",
              "      <td>{'neg': 0.0, 'neu': 1.0, 'pos': 0.0, 'compound...</td>\n",
              "    </tr>\n",
              "    <tr>\n",
              "      <th>3</th>\n",
              "      <td>Assistant Professor in Artificial Intelligence...</td>\n",
              "      <td>{'neg': 0.0, 'neu': 1.0, 'pos': 0.0, 'compound...</td>\n",
              "    </tr>\n",
              "    <tr>\n",
              "      <th>4</th>\n",
              "      <td>RT @KirkDBorne: Learning Math For #MachineLear...</td>\n",
              "      <td>{'neg': 0.0, 'neu': 0.807, 'pos': 0.193, 'comp...</td>\n",
              "    </tr>\n",
              "    <tr>\n",
              "      <th>5</th>\n",
              "      <td>Nervous to apply for a job like \"Artificial In...</td>\n",
              "      <td>{'neg': 0.096, 'neu': 0.596, 'pos': 0.307, 'co...</td>\n",
              "    </tr>\n",
              "    <tr>\n",
              "      <th>6</th>\n",
              "      <td>RT @Dr_Eren_Korkmaz: Currently listening to Ro...</td>\n",
              "      <td>{'neg': 0.0, 'neu': 1.0, 'pos': 0.0, 'compound...</td>\n",
              "    </tr>\n",
              "    <tr>\n",
              "      <th>7</th>\n",
              "      <td>Advances in artificial intelligence could soon...</td>\n",
              "      <td>{'neg': 0.129, 'neu': 0.539, 'pos': 0.332, 'co...</td>\n",
              "    </tr>\n",
              "    <tr>\n",
              "      <th>8</th>\n",
              "      <td>RT @MakadiaHarsh: Are you using these #trendin...</td>\n",
              "      <td>{'neg': 0.0, 'neu': 1.0, 'pos': 0.0, 'compound...</td>\n",
              "    </tr>\n",
              "    <tr>\n",
              "      <th>9</th>\n",
              "      <td>RT @pierrepinna: Types of Artificial Intellige...</td>\n",
              "      <td>{'neg': 0.0, 'neu': 0.838, 'pos': 0.162, 'comp...</td>\n",
              "    </tr>\n",
              "    <tr>\n",
              "      <th>10</th>\n",
              "      <td>RT @terence_mills: Dubai to transform taxi ser...</td>\n",
              "      <td>{'neg': 0.0, 'neu': 0.838, 'pos': 0.162, 'comp...</td>\n",
              "    </tr>\n",
              "    <tr>\n",
              "      <th>11</th>\n",
              "      <td>RT @TamaraMcCleary: Does Artificial Intelligen...</td>\n",
              "      <td>{'neg': 0.0, 'neu': 0.829, 'pos': 0.171, 'comp...</td>\n",
              "    </tr>\n",
              "    <tr>\n",
              "      <th>12</th>\n",
              "      <td>RT @Agnifun: AI : Artificial Intelligence\\nEI ...</td>\n",
              "      <td>{'neg': 0.0, 'neu': 0.721, 'pos': 0.279, 'comp...</td>\n",
              "    </tr>\n",
              "    <tr>\n",
              "      <th>13</th>\n",
              "      <td>Jenna Sutela in six artists who are shaping th...</td>\n",
              "      <td>{'neg': 0.0, 'neu': 1.0, 'pos': 0.0, 'compound...</td>\n",
              "    </tr>\n",
              "    <tr>\n",
              "      <th>14</th>\n",
              "      <td>RT @MariaSJustice: Can AI help crack the code ...</td>\n",
              "      <td>{'neg': 0.0, 'neu': 0.803, 'pos': 0.197, 'comp...</td>\n",
              "    </tr>\n",
              "    <tr>\n",
              "      <th>15</th>\n",
              "      <td>Meet the scientists who are training AI to dia...</td>\n",
              "      <td>{'neg': 0.197, 'neu': 0.803, 'pos': 0.0, 'comp...</td>\n",
              "    </tr>\n",
              "    <tr>\n",
              "      <th>16</th>\n",
              "      <td>Investors pour $30 million into Petal's AI-pow...</td>\n",
              "      <td>{'neg': 0.0, 'neu': 0.794, 'pos': 0.206, 'comp...</td>\n",
              "    </tr>\n",
              "    <tr>\n",
              "      <th>17</th>\n",
              "      <td>RT @verge: Experts recommend the 8 best things...</td>\n",
              "      <td>{'neg': 0.0, 'neu': 0.717, 'pos': 0.283, 'comp...</td>\n",
              "    </tr>\n",
              "    <tr>\n",
              "      <th>18</th>\n",
              "      <td>Could artificial intelligence improve patient ...</td>\n",
              "      <td>{'neg': 0.0, 'neu': 0.432, 'pos': 0.568, 'comp...</td>\n",
              "    </tr>\n",
              "    <tr>\n",
              "      <th>19</th>\n",
              "      <td>RT @princehandley: \"There's More Than #Artific...</td>\n",
              "      <td>{'neg': 0.0, 'neu': 1.0, 'pos': 0.0, 'compound...</td>\n",
              "    </tr>\n",
              "    <tr>\n",
              "      <th>20</th>\n",
              "      <td>A short summary of my recently published resea...</td>\n",
              "      <td>{'neg': 0.0, 'neu': 1.0, 'pos': 0.0, 'compound...</td>\n",
              "    </tr>\n",
              "    <tr>\n",
              "      <th>21</th>\n",
              "      <td>RT @claudiomkd: How #Robots Are Changing the W...</td>\n",
              "      <td>{'neg': 0.0, 'neu': 1.0, 'pos': 0.0, 'compound...</td>\n",
              "    </tr>\n",
              "    <tr>\n",
              "      <th>22</th>\n",
              "      <td>RT @MEAfintech: @BrettKing predicts that by 20...</td>\n",
              "      <td>{'neg': 0.0, 'neu': 0.86, 'pos': 0.14, 'compou...</td>\n",
              "    </tr>\n",
              "    <tr>\n",
              "      <th>23</th>\n",
              "      <td>RT @Ronald_vanLoon: How #Robots Are Changing t...</td>\n",
              "      <td>{'neg': 0.0, 'neu': 1.0, 'pos': 0.0, 'compound...</td>\n",
              "    </tr>\n",
              "    <tr>\n",
              "      <th>24</th>\n",
              "      <td>https://t.co/tOiXvuhzUZ</td>\n",
              "      <td>{'neg': 0.0, 'neu': 1.0, 'pos': 0.0, 'compound...</td>\n",
              "    </tr>\n",
              "    <tr>\n",
              "      <th>25</th>\n",
              "      <td>Avoid the pitfalls of #artificialintelligence,...</td>\n",
              "      <td>{'neg': 0.121, 'neu': 0.879, 'pos': 0.0, 'comp...</td>\n",
              "    </tr>\n",
              "    <tr>\n",
              "      <th>26</th>\n",
              "      <td>RT @BHGECO: What would you do if operators cou...</td>\n",
              "      <td>{'neg': 0.0, 'neu': 1.0, 'pos': 0.0, 'compound...</td>\n",
              "    </tr>\n",
              "    <tr>\n",
              "      <th>27</th>\n",
              "      <td>RT @Ri_Science: Ah, Valentine's day. Is romanc...</td>\n",
              "      <td>{'neg': 0.165, 'neu': 0.613, 'pos': 0.222, 'co...</td>\n",
              "    </tr>\n",
              "    <tr>\n",
              "      <th>28</th>\n",
              "      <td>From #BigData to Artificial Intelligence 2019 ...</td>\n",
              "      <td>{'neg': 0.0, 'neu': 0.763, 'pos': 0.237, 'comp...</td>\n",
              "    </tr>\n",
              "    <tr>\n",
              "      <th>29</th>\n",
              "      <td>RT @Ronald_vanLoon: How #Robots Are Changing t...</td>\n",
              "      <td>{'neg': 0.0, 'neu': 1.0, 'pos': 0.0, 'compound...</td>\n",
              "    </tr>\n",
              "    <tr>\n",
              "      <th>...</th>\n",
              "      <td>...</td>\n",
              "      <td>...</td>\n",
              "    </tr>\n",
              "    <tr>\n",
              "      <th>70</th>\n",
              "      <td>The problem with automation of jobs is: the re...</td>\n",
              "      <td>{'neg': 0.124, 'neu': 0.876, 'pos': 0.0, 'comp...</td>\n",
              "    </tr>\n",
              "    <tr>\n",
              "      <th>71</th>\n",
              "      <td>RT @cybersecboardrm: A.I. and Automation Are N...</td>\n",
              "      <td>{'neg': 0.0, 'neu': 0.844, 'pos': 0.156, 'comp...</td>\n",
              "    </tr>\n",
              "    <tr>\n",
              "      <th>72</th>\n",
              "      <td>RT @TIFAC_India: Incredible New Brain-Computer...</td>\n",
              "      <td>{'neg': 0.0, 'neu': 0.838, 'pos': 0.162, 'comp...</td>\n",
              "    </tr>\n",
              "    <tr>\n",
              "      <th>73</th>\n",
              "      <td>RT @evankirstel: Six artists who are shaping t...</td>\n",
              "      <td>{'neg': 0.0, 'neu': 1.0, 'pos': 0.0, 'compound...</td>\n",
              "    </tr>\n",
              "    <tr>\n",
              "      <th>74</th>\n",
              "      <td>RT @SpirosMargaris: An #AI reading list\\n\\nfro...</td>\n",
              "      <td>{'neg': 0.0, 'neu': 1.0, 'pos': 0.0, 'compound...</td>\n",
              "    </tr>\n",
              "    <tr>\n",
              "      <th>75</th>\n",
              "      <td>#AI, #machinelearning &amp;amp; deep learning are ...</td>\n",
              "      <td>{'neg': 0.0, 'neu': 1.0, 'pos': 0.0, 'compound...</td>\n",
              "    </tr>\n",
              "    <tr>\n",
              "      <th>76</th>\n",
              "      <td>U.S. Military Is Building Smarter Robots and T...</td>\n",
              "      <td>{'neg': 0.0, 'neu': 0.711, 'pos': 0.289, 'comp...</td>\n",
              "    </tr>\n",
              "    <tr>\n",
              "      <th>77</th>\n",
              "      <td>RT @verge: Experts recommend the 8 best things...</td>\n",
              "      <td>{'neg': 0.0, 'neu': 0.717, 'pos': 0.283, 'comp...</td>\n",
              "    </tr>\n",
              "    <tr>\n",
              "      <th>78</th>\n",
              "      <td>[MIT] Learning to teach to speed up learning -...</td>\n",
              "      <td>{'neg': 0.13, 'neu': 0.736, 'pos': 0.134, 'com...</td>\n",
              "    </tr>\n",
              "    <tr>\n",
              "      <th>79</th>\n",
              "      <td>https://t.co/Wb3Jysh3ZC via @africanexponent</td>\n",
              "      <td>{'neg': 0.0, 'neu': 1.0, 'pos': 0.0, 'compound...</td>\n",
              "    </tr>\n",
              "    <tr>\n",
              "      <th>80</th>\n",
              "      <td>RT @verge: Experts recommend the 8 best things...</td>\n",
              "      <td>{'neg': 0.0, 'neu': 0.717, 'pos': 0.283, 'comp...</td>\n",
              "    </tr>\n",
              "    <tr>\n",
              "      <th>81</th>\n",
              "      <td>RT @OWWRGMN: Advances in artificial intelligen...</td>\n",
              "      <td>{'neg': 0.119, 'neu': 0.575, 'pos': 0.307, 'co...</td>\n",
              "    </tr>\n",
              "    <tr>\n",
              "      <th>82</th>\n",
              "      <td>RT @TheAIToday: How to keep AI from turning in...</td>\n",
              "      <td>{'neg': 0.0, 'neu': 1.0, 'pos': 0.0, 'compound...</td>\n",
              "    </tr>\n",
              "    <tr>\n",
              "      <th>83</th>\n",
              "      <td>Artificial intelligence could improve the expe...</td>\n",
              "      <td>{'neg': 0.0, 'neu': 0.714, 'pos': 0.286, 'comp...</td>\n",
              "    </tr>\n",
              "    <tr>\n",
              "      <th>84</th>\n",
              "      <td>RT @IainLJBrown: The Geopolitics Of Artificial...</td>\n",
              "      <td>{'neg': 0.0, 'neu': 0.807, 'pos': 0.193, 'comp...</td>\n",
              "    </tr>\n",
              "    <tr>\n",
              "      <th>85</th>\n",
              "      <td>RT @BeFoundOnline: #DigitalMarketing pros are ...</td>\n",
              "      <td>{'neg': 0.0, 'neu': 0.82, 'pos': 0.18, 'compou...</td>\n",
              "    </tr>\n",
              "    <tr>\n",
              "      <th>86</th>\n",
              "      <td>RT @evankirstel: #AI and Automation Are NOT th...</td>\n",
              "      <td>{'neg': 0.0, 'neu': 0.836, 'pos': 0.164, 'comp...</td>\n",
              "    </tr>\n",
              "    <tr>\n",
              "      <th>87</th>\n",
              "      <td>7 Takeaways From Recent Surveys About The Stat...</td>\n",
              "      <td>{'neg': 0.0, 'neu': 0.763, 'pos': 0.237, 'comp...</td>\n",
              "    </tr>\n",
              "    <tr>\n",
              "      <th>88</th>\n",
              "      <td>Another reminder to register for this year's c...</td>\n",
              "      <td>{'neg': 0.0, 'neu': 1.0, 'pos': 0.0, 'compound...</td>\n",
              "    </tr>\n",
              "    <tr>\n",
              "      <th>89</th>\n",
              "      <td>RT @IainLJBrown: The Geopolitics Of Artificial...</td>\n",
              "      <td>{'neg': 0.0, 'neu': 0.807, 'pos': 0.193, 'comp...</td>\n",
              "    </tr>\n",
              "    <tr>\n",
              "      <th>90</th>\n",
              "      <td>Experts recommend the 8 best things to read on...</td>\n",
              "      <td>{'neg': 0.0, 'neu': 0.691, 'pos': 0.309, 'comp...</td>\n",
              "    </tr>\n",
              "    <tr>\n",
              "      <th>91</th>\n",
              "      <td>RT @thedextriarchy: The @verge is running an i...</td>\n",
              "      <td>{'neg': 0.0, 'neu': 0.866, 'pos': 0.134, 'comp...</td>\n",
              "    </tr>\n",
              "    <tr>\n",
              "      <th>92</th>\n",
              "      <td>\"There's More Than #Artificial #Intelligence (...</td>\n",
              "      <td>{'neg': 0.0, 'neu': 1.0, 'pos': 0.0, 'compound...</td>\n",
              "    </tr>\n",
              "    <tr>\n",
              "      <th>93</th>\n",
              "      <td>RT @ipfconline1: Artificial Intelligence Has A...</td>\n",
              "      <td>{'neg': 0.185, 'neu': 0.676, 'pos': 0.14, 'com...</td>\n",
              "    </tr>\n",
              "    <tr>\n",
              "      <th>94</th>\n",
              "      <td>RT @jjvincent: Want to understand AI better bu...</td>\n",
              "      <td>{'neg': 0.0, 'neu': 0.791, 'pos': 0.209, 'comp...</td>\n",
              "    </tr>\n",
              "    <tr>\n",
              "      <th>95</th>\n",
              "      <td>Takes a knowledgeable and diverse team in an i...</td>\n",
              "      <td>{'neg': 0.0, 'neu': 0.826, 'pos': 0.174, 'comp...</td>\n",
              "    </tr>\n",
              "    <tr>\n",
              "      <th>96</th>\n",
              "      <td>RT @Hillsdale: Please join us for our third CC...</td>\n",
              "      <td>{'neg': 0.0, 'neu': 0.725, 'pos': 0.275, 'comp...</td>\n",
              "    </tr>\n",
              "    <tr>\n",
              "      <th>97</th>\n",
              "      <td>RT @IainLJBrown: Microsoft's Tech Chief Talks ...</td>\n",
              "      <td>{'neg': 0.0, 'neu': 0.846, 'pos': 0.154, 'comp...</td>\n",
              "    </tr>\n",
              "    <tr>\n",
              "      <th>98</th>\n",
              "      <td>RT @marcusborba: An #AI reading list\\n\\nfrom p...</td>\n",
              "      <td>{'neg': 0.0, 'neu': 1.0, 'pos': 0.0, 'compound...</td>\n",
              "    </tr>\n",
              "    <tr>\n",
              "      <th>99</th>\n",
              "      <td>RT @one_graham_army: This week’s episode was c...</td>\n",
              "      <td>{'neg': 0.0, 'neu': 1.0, 'pos': 0.0, 'compound...</td>\n",
              "    </tr>\n",
              "  </tbody>\n",
              "</table>\n",
              "<p>100 rows × 2 columns</p>\n",
              "</div>"
            ],
            "text/plain": [
              "                                               Tweets  \\\n",
              "0   RT @verge: Experts recommend the 8 best things...   \n",
              "1   \"There's More Than #Artificial #Intelligence (...   \n",
              "2   RT @MakadiaHarsh: Are you using these #trendin...   \n",
              "3   Assistant Professor in Artificial Intelligence...   \n",
              "4   RT @KirkDBorne: Learning Math For #MachineLear...   \n",
              "5   Nervous to apply for a job like \"Artificial In...   \n",
              "6   RT @Dr_Eren_Korkmaz: Currently listening to Ro...   \n",
              "7   Advances in artificial intelligence could soon...   \n",
              "8   RT @MakadiaHarsh: Are you using these #trendin...   \n",
              "9   RT @pierrepinna: Types of Artificial Intellige...   \n",
              "10  RT @terence_mills: Dubai to transform taxi ser...   \n",
              "11  RT @TamaraMcCleary: Does Artificial Intelligen...   \n",
              "12  RT @Agnifun: AI : Artificial Intelligence\\nEI ...   \n",
              "13  Jenna Sutela in six artists who are shaping th...   \n",
              "14  RT @MariaSJustice: Can AI help crack the code ...   \n",
              "15  Meet the scientists who are training AI to dia...   \n",
              "16  Investors pour $30 million into Petal's AI-pow...   \n",
              "17  RT @verge: Experts recommend the 8 best things...   \n",
              "18  Could artificial intelligence improve patient ...   \n",
              "19  RT @princehandley: \"There's More Than #Artific...   \n",
              "20  A short summary of my recently published resea...   \n",
              "21  RT @claudiomkd: How #Robots Are Changing the W...   \n",
              "22  RT @MEAfintech: @BrettKing predicts that by 20...   \n",
              "23  RT @Ronald_vanLoon: How #Robots Are Changing t...   \n",
              "24                            https://t.co/tOiXvuhzUZ   \n",
              "25  Avoid the pitfalls of #artificialintelligence,...   \n",
              "26  RT @BHGECO: What would you do if operators cou...   \n",
              "27  RT @Ri_Science: Ah, Valentine's day. Is romanc...   \n",
              "28  From #BigData to Artificial Intelligence 2019 ...   \n",
              "29  RT @Ronald_vanLoon: How #Robots Are Changing t...   \n",
              "..                                                ...   \n",
              "70  The problem with automation of jobs is: the re...   \n",
              "71  RT @cybersecboardrm: A.I. and Automation Are N...   \n",
              "72  RT @TIFAC_India: Incredible New Brain-Computer...   \n",
              "73  RT @evankirstel: Six artists who are shaping t...   \n",
              "74  RT @SpirosMargaris: An #AI reading list\\n\\nfro...   \n",
              "75  #AI, #machinelearning &amp; deep learning are ...   \n",
              "76  U.S. Military Is Building Smarter Robots and T...   \n",
              "77  RT @verge: Experts recommend the 8 best things...   \n",
              "78  [MIT] Learning to teach to speed up learning -...   \n",
              "79       https://t.co/Wb3Jysh3ZC via @africanexponent   \n",
              "80  RT @verge: Experts recommend the 8 best things...   \n",
              "81  RT @OWWRGMN: Advances in artificial intelligen...   \n",
              "82  RT @TheAIToday: How to keep AI from turning in...   \n",
              "83  Artificial intelligence could improve the expe...   \n",
              "84  RT @IainLJBrown: The Geopolitics Of Artificial...   \n",
              "85  RT @BeFoundOnline: #DigitalMarketing pros are ...   \n",
              "86  RT @evankirstel: #AI and Automation Are NOT th...   \n",
              "87  7 Takeaways From Recent Surveys About The Stat...   \n",
              "88  Another reminder to register for this year's c...   \n",
              "89  RT @IainLJBrown: The Geopolitics Of Artificial...   \n",
              "90  Experts recommend the 8 best things to read on...   \n",
              "91  RT @thedextriarchy: The @verge is running an i...   \n",
              "92  \"There's More Than #Artificial #Intelligence (...   \n",
              "93  RT @ipfconline1: Artificial Intelligence Has A...   \n",
              "94  RT @jjvincent: Want to understand AI better bu...   \n",
              "95  Takes a knowledgeable and diverse team in an i...   \n",
              "96  RT @Hillsdale: Please join us for our third CC...   \n",
              "97  RT @IainLJBrown: Microsoft's Tech Chief Talks ...   \n",
              "98  RT @marcusborba: An #AI reading list\\n\\nfrom p...   \n",
              "99  RT @one_graham_army: This week’s episode was c...   \n",
              "\n",
              "                                             polarity  \n",
              "0   {'neg': 0.0, 'neu': 0.717, 'pos': 0.283, 'comp...  \n",
              "1   {'neg': 0.0, 'neu': 1.0, 'pos': 0.0, 'compound...  \n",
              "2   {'neg': 0.0, 'neu': 1.0, 'pos': 0.0, 'compound...  \n",
              "3   {'neg': 0.0, 'neu': 1.0, 'pos': 0.0, 'compound...  \n",
              "4   {'neg': 0.0, 'neu': 0.807, 'pos': 0.193, 'comp...  \n",
              "5   {'neg': 0.096, 'neu': 0.596, 'pos': 0.307, 'co...  \n",
              "6   {'neg': 0.0, 'neu': 1.0, 'pos': 0.0, 'compound...  \n",
              "7   {'neg': 0.129, 'neu': 0.539, 'pos': 0.332, 'co...  \n",
              "8   {'neg': 0.0, 'neu': 1.0, 'pos': 0.0, 'compound...  \n",
              "9   {'neg': 0.0, 'neu': 0.838, 'pos': 0.162, 'comp...  \n",
              "10  {'neg': 0.0, 'neu': 0.838, 'pos': 0.162, 'comp...  \n",
              "11  {'neg': 0.0, 'neu': 0.829, 'pos': 0.171, 'comp...  \n",
              "12  {'neg': 0.0, 'neu': 0.721, 'pos': 0.279, 'comp...  \n",
              "13  {'neg': 0.0, 'neu': 1.0, 'pos': 0.0, 'compound...  \n",
              "14  {'neg': 0.0, 'neu': 0.803, 'pos': 0.197, 'comp...  \n",
              "15  {'neg': 0.197, 'neu': 0.803, 'pos': 0.0, 'comp...  \n",
              "16  {'neg': 0.0, 'neu': 0.794, 'pos': 0.206, 'comp...  \n",
              "17  {'neg': 0.0, 'neu': 0.717, 'pos': 0.283, 'comp...  \n",
              "18  {'neg': 0.0, 'neu': 0.432, 'pos': 0.568, 'comp...  \n",
              "19  {'neg': 0.0, 'neu': 1.0, 'pos': 0.0, 'compound...  \n",
              "20  {'neg': 0.0, 'neu': 1.0, 'pos': 0.0, 'compound...  \n",
              "21  {'neg': 0.0, 'neu': 1.0, 'pos': 0.0, 'compound...  \n",
              "22  {'neg': 0.0, 'neu': 0.86, 'pos': 0.14, 'compou...  \n",
              "23  {'neg': 0.0, 'neu': 1.0, 'pos': 0.0, 'compound...  \n",
              "24  {'neg': 0.0, 'neu': 1.0, 'pos': 0.0, 'compound...  \n",
              "25  {'neg': 0.121, 'neu': 0.879, 'pos': 0.0, 'comp...  \n",
              "26  {'neg': 0.0, 'neu': 1.0, 'pos': 0.0, 'compound...  \n",
              "27  {'neg': 0.165, 'neu': 0.613, 'pos': 0.222, 'co...  \n",
              "28  {'neg': 0.0, 'neu': 0.763, 'pos': 0.237, 'comp...  \n",
              "29  {'neg': 0.0, 'neu': 1.0, 'pos': 0.0, 'compound...  \n",
              "..                                                ...  \n",
              "70  {'neg': 0.124, 'neu': 0.876, 'pos': 0.0, 'comp...  \n",
              "71  {'neg': 0.0, 'neu': 0.844, 'pos': 0.156, 'comp...  \n",
              "72  {'neg': 0.0, 'neu': 0.838, 'pos': 0.162, 'comp...  \n",
              "73  {'neg': 0.0, 'neu': 1.0, 'pos': 0.0, 'compound...  \n",
              "74  {'neg': 0.0, 'neu': 1.0, 'pos': 0.0, 'compound...  \n",
              "75  {'neg': 0.0, 'neu': 1.0, 'pos': 0.0, 'compound...  \n",
              "76  {'neg': 0.0, 'neu': 0.711, 'pos': 0.289, 'comp...  \n",
              "77  {'neg': 0.0, 'neu': 0.717, 'pos': 0.283, 'comp...  \n",
              "78  {'neg': 0.13, 'neu': 0.736, 'pos': 0.134, 'com...  \n",
              "79  {'neg': 0.0, 'neu': 1.0, 'pos': 0.0, 'compound...  \n",
              "80  {'neg': 0.0, 'neu': 0.717, 'pos': 0.283, 'comp...  \n",
              "81  {'neg': 0.119, 'neu': 0.575, 'pos': 0.307, 'co...  \n",
              "82  {'neg': 0.0, 'neu': 1.0, 'pos': 0.0, 'compound...  \n",
              "83  {'neg': 0.0, 'neu': 0.714, 'pos': 0.286, 'comp...  \n",
              "84  {'neg': 0.0, 'neu': 0.807, 'pos': 0.193, 'comp...  \n",
              "85  {'neg': 0.0, 'neu': 0.82, 'pos': 0.18, 'compou...  \n",
              "86  {'neg': 0.0, 'neu': 0.836, 'pos': 0.164, 'comp...  \n",
              "87  {'neg': 0.0, 'neu': 0.763, 'pos': 0.237, 'comp...  \n",
              "88  {'neg': 0.0, 'neu': 1.0, 'pos': 0.0, 'compound...  \n",
              "89  {'neg': 0.0, 'neu': 0.807, 'pos': 0.193, 'comp...  \n",
              "90  {'neg': 0.0, 'neu': 0.691, 'pos': 0.309, 'comp...  \n",
              "91  {'neg': 0.0, 'neu': 0.866, 'pos': 0.134, 'comp...  \n",
              "92  {'neg': 0.0, 'neu': 1.0, 'pos': 0.0, 'compound...  \n",
              "93  {'neg': 0.185, 'neu': 0.676, 'pos': 0.14, 'com...  \n",
              "94  {'neg': 0.0, 'neu': 0.791, 'pos': 0.209, 'comp...  \n",
              "95  {'neg': 0.0, 'neu': 0.826, 'pos': 0.174, 'comp...  \n",
              "96  {'neg': 0.0, 'neu': 0.725, 'pos': 0.275, 'comp...  \n",
              "97  {'neg': 0.0, 'neu': 0.846, 'pos': 0.154, 'comp...  \n",
              "98  {'neg': 0.0, 'neu': 1.0, 'pos': 0.0, 'compound...  \n",
              "99  {'neg': 0.0, 'neu': 1.0, 'pos': 0.0, 'compound...  \n",
              "\n",
              "[100 rows x 2 columns]"
            ]
          },
          "metadata": {
            "tags": []
          }
        }
      ]
    },
    {
      "metadata": {
        "id": "YjJFNV2Lt6sv",
        "colab_type": "code",
        "colab": {}
      },
      "cell_type": "code",
      "source": [
        ""
      ],
      "execution_count": 0,
      "outputs": []
    }
  ]
}
